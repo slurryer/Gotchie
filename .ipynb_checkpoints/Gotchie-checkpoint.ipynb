{
 "cells": [
  {
   "cell_type": "code",
   "execution_count": 426,
   "metadata": {
    "collapsed": false
   },
   "outputs": [
    {
     "name": "stdout",
     "output_type": "stream",
     "text": [
      "On branch master\n",
      "nothing to commit, working tree clean\n"
     ]
    }
   ],
   "source": [
    "!git status"
   ]
  },
  {
   "cell_type": "code",
   "execution_count": 409,
   "metadata": {
    "collapsed": false
   },
   "outputs": [],
   "source": [
    "import random\n",
    "import time\n",
    "\n",
    "from collections import namedtuple\n",
    "from datetime import datetime\n",
    "\n",
    "class Gotchie:\n",
    "    \"\"\"Gotchie Type\"\"\"\n",
    "    \n",
    "    def __init__(self):\n",
    "        \"\"\"Gotchie initial state.\"\"\"\n",
    "        self.birthtime = time.time()\n",
    "        \n",
    "        initial_height = random.random() + random.choice([1,2,2,3,3,3,4])\n",
    "        initial_width = random.random() + random.choice([1,2,2,3,3,3,4,4,5,5])\n",
    "        initial_weight = random.random() + random.choice([10,12,14,15,16,17])\n",
    "        initial_sfuel = random.random() + 2\n",
    "        initial_lfuel = random.random() + 2\n",
    "        \n",
    "        self.physical_attributes = namedtuple('PHY',['age', \n",
    "                                                     'height', \n",
    "                                                     'width', \n",
    "                                                     'weight', \n",
    "                                                     'sfuel', \n",
    "                                                     'lfuel', \n",
    "                                                     'sfuel_max', \n",
    "                                                     'lfuel_max', \n",
    "                                                     'hage'])\n",
    "        self.PHY = self.physical_attributes(age = 0, \n",
    "                                            height = initial_height, \n",
    "                                            width = initial_width, \n",
    "                                            weight = initial_width, \n",
    "                                            sfuel = initial_sfuel, \n",
    "                                            lfuel = initial_lfuel, \n",
    "                                            lfuel_max = 5, \n",
    "                                            sfuel_max = 5, \n",
    "                                            hage = 0)\n",
    "        \n",
    "        \n",
    "    def time_update(self):\n",
    "        current_age = time.time() - self.birthtime\n",
    "        current_height = self.PHY.height\n",
    "        current_width = self.PHY.width\n",
    "        current_weight = self.PHY.weight\n",
    "        current_sfuel = self.PHY.sfuel - self.PHY.age / 20\n",
    "        current_lfuel = self.PHY.lfuel - self.PHY.age / 10\n",
    "        current_lfuel_max = self.PHY.lfuel_max + self.PHY.age / 100\n",
    "        current_sfuel_max = self.PHY.sfuel_max + self.PHY.age / 100\n",
    "        #####################################\n",
    "        ### Set time sfuel or hfuel hit 0 ###\n",
    "        if (self.PHY.lfuel == 0 or self.PHY.sfuel == 0) and self.PHY.hage == 0:\n",
    "            current_hage = time.time()\n",
    "        else:\n",
    "            current_hage = self.PHY.hage\n",
    "        \n",
    "        self.PHY = self.physical_attributes(age = current_age, \n",
    "                                            height = current_height, \n",
    "                                            width = current_width, \n",
    "                                            weight = current_width, \n",
    "                                            sfuel = current_sfuel if current_sfuel >= 0 else 0, \n",
    "                                            lfuel = current_lfuel if current_lfuel >= 0 else 0, \n",
    "                                            lfuel_max = current_lfuel_max if current_lfuel < 172800 else 172800, \n",
    "                                            sfuel_max = current_sfuel_max if current_lfuel < 172800 else 172800, \n",
    "                                            hage = current_hage)\n",
    "    \n",
    "        \n",
    "        \n",
    "        \n",
    "g = Gotchie()        "
   ]
  },
  {
   "cell_type": "code",
   "execution_count": 425,
   "metadata": {
    "collapsed": false
   },
   "outputs": [
    {
     "name": "stdout",
     "output_type": "stream",
     "text": [
      "PHY(age=42.777000188827515, height=4.119603237360786, width=3.9279367983998688, weight=3.9279367983998688, sfuel=0, lfuel=0, sfuel_max=9.08635001897812, lfuel_max=9.08635001897812, hage=1496256795.2381337)\n"
     ]
    }
   ],
   "source": [
    "\n",
    "g.time_update()\n",
    "print(g.PHY)\n",
    "    "
   ]
  },
  {
   "cell_type": "code",
   "execution_count": 69,
   "metadata": {
    "collapsed": false
   },
   "outputs": [
    {
     "data": {
      "text/plain": [
       "3.11122535001882"
      ]
     },
     "execution_count": 69,
     "metadata": {},
     "output_type": "execute_result"
    }
   ],
   "source": [
    "max_initial_height = 3.0\n",
    "min_initial_height = 0.25\n",
    "\n",
    "random.random() * min_initial_height + max_initial_height"
   ]
  },
  {
   "cell_type": "code",
   "execution_count": 287,
   "metadata": {
    "collapsed": false
   },
   "outputs": [
    {
     "data": {
      "text/plain": [
       "0"
      ]
     },
     "execution_count": 287,
     "metadata": {},
     "output_type": "execute_result"
    }
   ],
   "source": [
    "g.PHY.age"
   ]
  }
 ],
 "metadata": {
  "kernelspec": {
   "display_name": "python36",
   "language": "python",
   "name": "python36"
  },
  "language_info": {
   "codemirror_mode": {
    "name": "ipython",
    "version": 3
   },
   "file_extension": ".py",
   "mimetype": "text/x-python",
   "name": "python",
   "nbconvert_exporter": "python",
   "pygments_lexer": "ipython3",
   "version": "3.6.0"
  }
 },
 "nbformat": 4,
 "nbformat_minor": 1
}
